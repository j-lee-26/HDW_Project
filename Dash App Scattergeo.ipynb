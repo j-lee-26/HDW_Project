{
 "cells": [
  {
   "cell_type": "code",
   "execution_count": 10,
   "id": "0811c5f2",
   "metadata": {},
   "outputs": [
    {
     "ename": "ValueError",
     "evalue": "\n    Invalid value of type 'builtins.str' received for the 'legendgrouptitle' property of scatter\n        Received value: 'Group Title 1'\n\n    The 'legendgrouptitle' property is an instance of Legendgrouptitle\n    that may be specified as:\n      - An instance of :class:`plotly.graph_objs.scatter.Legendgrouptitle`\n      - A dict of string/value properties that will be passed\n        to the Legendgrouptitle constructor\n\n        Supported dict properties:\n            \n            font\n                Sets this legend group's title font.\n            text\n                Sets the title of the legend group.\n",
     "output_type": "error",
     "traceback": [
      "\u001b[1;31m---------------------------------------------------------------------------\u001b[0m",
      "\u001b[1;31mValueError\u001b[0m                                Traceback (most recent call last)",
      "\u001b[1;32m~\\AppData\\Local\\Temp\\ipykernel_5080\\1674645725.py\u001b[0m in \u001b[0;36m<module>\u001b[1;34m\u001b[0m\n\u001b[0;32m      1\u001b[0m \u001b[1;32mimport\u001b[0m \u001b[0mplotly\u001b[0m\u001b[1;33m.\u001b[0m\u001b[0mgraph_objects\u001b[0m \u001b[1;32mas\u001b[0m \u001b[0mgo\u001b[0m\u001b[1;33m\u001b[0m\u001b[1;33m\u001b[0m\u001b[0m\n\u001b[0;32m      2\u001b[0m \u001b[1;33m\u001b[0m\u001b[0m\n\u001b[1;32m----> 3\u001b[1;33m trace1 = go.Scatter(\n\u001b[0m\u001b[0;32m      4\u001b[0m     \u001b[0mx\u001b[0m\u001b[1;33m=\u001b[0m\u001b[1;33m[\u001b[0m\u001b[1;36m1\u001b[0m\u001b[1;33m,\u001b[0m \u001b[1;36m2\u001b[0m\u001b[1;33m,\u001b[0m \u001b[1;36m3\u001b[0m\u001b[1;33m]\u001b[0m\u001b[1;33m,\u001b[0m\u001b[1;33m\u001b[0m\u001b[1;33m\u001b[0m\u001b[0m\n\u001b[0;32m      5\u001b[0m     \u001b[0my\u001b[0m\u001b[1;33m=\u001b[0m\u001b[1;33m[\u001b[0m\u001b[1;36m1\u001b[0m\u001b[1;33m,\u001b[0m \u001b[1;36m3\u001b[0m\u001b[1;33m,\u001b[0m \u001b[1;36m2\u001b[0m\u001b[1;33m]\u001b[0m\u001b[1;33m,\u001b[0m\u001b[1;33m\u001b[0m\u001b[1;33m\u001b[0m\u001b[0m\n",
      "\u001b[1;32m~\\anaconda3\\lib\\site-packages\\plotly\\graph_objs\\_scatter.py\u001b[0m in \u001b[0;36m__init__\u001b[1;34m(self, arg, cliponaxis, connectgaps, customdata, customdatasrc, dx, dy, error_x, error_y, fill, fillcolor, fillpattern, groupnorm, hoverinfo, hoverinfosrc, hoverlabel, hoveron, hovertemplate, hovertemplatesrc, hovertext, hovertextsrc, ids, idssrc, legendgroup, legendgrouptitle, legendrank, line, marker, meta, metasrc, mode, name, opacity, orientation, selected, selectedpoints, showlegend, stackgaps, stackgroup, stream, text, textfont, textposition, textpositionsrc, textsrc, texttemplate, texttemplatesrc, uid, uirevision, unselected, visible, x, x0, xaxis, xcalendar, xhoverformat, xperiod, xperiod0, xperiodalignment, xsrc, y, y0, yaxis, ycalendar, yhoverformat, yperiod, yperiod0, yperiodalignment, ysrc, **kwargs)\u001b[0m\n\u001b[0;32m   3182\u001b[0m         \u001b[0m_v\u001b[0m \u001b[1;33m=\u001b[0m \u001b[0mlegendgrouptitle\u001b[0m \u001b[1;32mif\u001b[0m \u001b[0mlegendgrouptitle\u001b[0m \u001b[1;32mis\u001b[0m \u001b[1;32mnot\u001b[0m \u001b[1;32mNone\u001b[0m \u001b[1;32melse\u001b[0m \u001b[0m_v\u001b[0m\u001b[1;33m\u001b[0m\u001b[1;33m\u001b[0m\u001b[0m\n\u001b[0;32m   3183\u001b[0m         \u001b[1;32mif\u001b[0m \u001b[0m_v\u001b[0m \u001b[1;32mis\u001b[0m \u001b[1;32mnot\u001b[0m \u001b[1;32mNone\u001b[0m\u001b[1;33m:\u001b[0m\u001b[1;33m\u001b[0m\u001b[1;33m\u001b[0m\u001b[0m\n\u001b[1;32m-> 3184\u001b[1;33m             \u001b[0mself\u001b[0m\u001b[1;33m[\u001b[0m\u001b[1;34m\"legendgrouptitle\"\u001b[0m\u001b[1;33m]\u001b[0m \u001b[1;33m=\u001b[0m \u001b[0m_v\u001b[0m\u001b[1;33m\u001b[0m\u001b[1;33m\u001b[0m\u001b[0m\n\u001b[0m\u001b[0;32m   3185\u001b[0m         \u001b[0m_v\u001b[0m \u001b[1;33m=\u001b[0m \u001b[0marg\u001b[0m\u001b[1;33m.\u001b[0m\u001b[0mpop\u001b[0m\u001b[1;33m(\u001b[0m\u001b[1;34m\"legendrank\"\u001b[0m\u001b[1;33m,\u001b[0m \u001b[1;32mNone\u001b[0m\u001b[1;33m)\u001b[0m\u001b[1;33m\u001b[0m\u001b[1;33m\u001b[0m\u001b[0m\n\u001b[0;32m   3186\u001b[0m         \u001b[0m_v\u001b[0m \u001b[1;33m=\u001b[0m \u001b[0mlegendrank\u001b[0m \u001b[1;32mif\u001b[0m \u001b[0mlegendrank\u001b[0m \u001b[1;32mis\u001b[0m \u001b[1;32mnot\u001b[0m \u001b[1;32mNone\u001b[0m \u001b[1;32melse\u001b[0m \u001b[0m_v\u001b[0m\u001b[1;33m\u001b[0m\u001b[1;33m\u001b[0m\u001b[0m\n",
      "\u001b[1;32m~\\anaconda3\\lib\\site-packages\\plotly\\basedatatypes.py\u001b[0m in \u001b[0;36m__setitem__\u001b[1;34m(self, prop, value)\u001b[0m\n\u001b[0;32m   4849\u001b[0m                 \u001b[1;31m# ### Handle compound property ###\u001b[0m\u001b[1;33m\u001b[0m\u001b[1;33m\u001b[0m\u001b[0m\n\u001b[0;32m   4850\u001b[0m                 \u001b[1;32mif\u001b[0m \u001b[0misinstance\u001b[0m\u001b[1;33m(\u001b[0m\u001b[0mvalidator\u001b[0m\u001b[1;33m,\u001b[0m \u001b[0mCompoundValidator\u001b[0m\u001b[1;33m)\u001b[0m\u001b[1;33m:\u001b[0m\u001b[1;33m\u001b[0m\u001b[1;33m\u001b[0m\u001b[0m\n\u001b[1;32m-> 4851\u001b[1;33m                     \u001b[0mself\u001b[0m\u001b[1;33m.\u001b[0m\u001b[0m_set_compound_prop\u001b[0m\u001b[1;33m(\u001b[0m\u001b[0mprop\u001b[0m\u001b[1;33m,\u001b[0m \u001b[0mvalue\u001b[0m\u001b[1;33m)\u001b[0m\u001b[1;33m\u001b[0m\u001b[1;33m\u001b[0m\u001b[0m\n\u001b[0m\u001b[0;32m   4852\u001b[0m \u001b[1;33m\u001b[0m\u001b[0m\n\u001b[0;32m   4853\u001b[0m                 \u001b[1;31m# ### Handle compound array property ###\u001b[0m\u001b[1;33m\u001b[0m\u001b[1;33m\u001b[0m\u001b[0m\n",
      "\u001b[1;32m~\\anaconda3\\lib\\site-packages\\plotly\\basedatatypes.py\u001b[0m in \u001b[0;36m_set_compound_prop\u001b[1;34m(self, prop, val)\u001b[0m\n\u001b[0;32m   5260\u001b[0m         \u001b[1;31m# ------------\u001b[0m\u001b[1;33m\u001b[0m\u001b[1;33m\u001b[0m\u001b[0m\n\u001b[0;32m   5261\u001b[0m         \u001b[0mvalidator\u001b[0m \u001b[1;33m=\u001b[0m \u001b[0mself\u001b[0m\u001b[1;33m.\u001b[0m\u001b[0m_get_validator\u001b[0m\u001b[1;33m(\u001b[0m\u001b[0mprop\u001b[0m\u001b[1;33m)\u001b[0m\u001b[1;33m\u001b[0m\u001b[1;33m\u001b[0m\u001b[0m\n\u001b[1;32m-> 5262\u001b[1;33m         \u001b[0mval\u001b[0m \u001b[1;33m=\u001b[0m \u001b[0mvalidator\u001b[0m\u001b[1;33m.\u001b[0m\u001b[0mvalidate_coerce\u001b[0m\u001b[1;33m(\u001b[0m\u001b[0mval\u001b[0m\u001b[1;33m,\u001b[0m \u001b[0mskip_invalid\u001b[0m\u001b[1;33m=\u001b[0m\u001b[0mself\u001b[0m\u001b[1;33m.\u001b[0m\u001b[0m_skip_invalid\u001b[0m\u001b[1;33m)\u001b[0m\u001b[1;33m\u001b[0m\u001b[1;33m\u001b[0m\u001b[0m\n\u001b[0m\u001b[0;32m   5263\u001b[0m \u001b[1;33m\u001b[0m\u001b[0m\n\u001b[0;32m   5264\u001b[0m         \u001b[1;31m# Save deep copies of current and new states\u001b[0m\u001b[1;33m\u001b[0m\u001b[1;33m\u001b[0m\u001b[0m\n",
      "\u001b[1;32m~\\anaconda3\\lib\\site-packages\\_plotly_utils\\basevalidators.py\u001b[0m in \u001b[0;36mvalidate_coerce\u001b[1;34m(self, v, skip_invalid, _validate)\u001b[0m\n\u001b[0;32m   2462\u001b[0m                 \u001b[0mv\u001b[0m \u001b[1;33m=\u001b[0m \u001b[0mself\u001b[0m\u001b[1;33m.\u001b[0m\u001b[0mdata_class\u001b[0m\u001b[1;33m(\u001b[0m\u001b[1;33m)\u001b[0m\u001b[1;33m\u001b[0m\u001b[1;33m\u001b[0m\u001b[0m\n\u001b[0;32m   2463\u001b[0m             \u001b[1;32melse\u001b[0m\u001b[1;33m:\u001b[0m\u001b[1;33m\u001b[0m\u001b[1;33m\u001b[0m\u001b[0m\n\u001b[1;32m-> 2464\u001b[1;33m                 \u001b[0mself\u001b[0m\u001b[1;33m.\u001b[0m\u001b[0mraise_invalid_val\u001b[0m\u001b[1;33m(\u001b[0m\u001b[0mv\u001b[0m\u001b[1;33m)\u001b[0m\u001b[1;33m\u001b[0m\u001b[1;33m\u001b[0m\u001b[0m\n\u001b[0m\u001b[0;32m   2465\u001b[0m \u001b[1;33m\u001b[0m\u001b[0m\n\u001b[0;32m   2466\u001b[0m         \u001b[0mv\u001b[0m\u001b[1;33m.\u001b[0m\u001b[0m_plotly_name\u001b[0m \u001b[1;33m=\u001b[0m \u001b[0mself\u001b[0m\u001b[1;33m.\u001b[0m\u001b[0mplotly_name\u001b[0m\u001b[1;33m\u001b[0m\u001b[1;33m\u001b[0m\u001b[0m\n",
      "\u001b[1;32m~\\anaconda3\\lib\\site-packages\\_plotly_utils\\basevalidators.py\u001b[0m in \u001b[0;36mraise_invalid_val\u001b[1;34m(self, v, inds)\u001b[0m\n\u001b[0;32m    286\u001b[0m                 \u001b[0mname\u001b[0m \u001b[1;33m+=\u001b[0m \u001b[1;34m\"[\"\u001b[0m \u001b[1;33m+\u001b[0m \u001b[0mstr\u001b[0m\u001b[1;33m(\u001b[0m\u001b[0mi\u001b[0m\u001b[1;33m)\u001b[0m \u001b[1;33m+\u001b[0m \u001b[1;34m\"]\"\u001b[0m\u001b[1;33m\u001b[0m\u001b[1;33m\u001b[0m\u001b[0m\n\u001b[0;32m    287\u001b[0m \u001b[1;33m\u001b[0m\u001b[0m\n\u001b[1;32m--> 288\u001b[1;33m         raise ValueError(\n\u001b[0m\u001b[0;32m    289\u001b[0m             \"\"\"\n\u001b[0;32m    290\u001b[0m     \u001b[0mInvalid\u001b[0m \u001b[0mvalue\u001b[0m \u001b[0mof\u001b[0m \u001b[0mtype\u001b[0m \u001b[1;33m{\u001b[0m\u001b[0mtyp\u001b[0m\u001b[1;33m}\u001b[0m \u001b[0mreceived\u001b[0m \u001b[1;32mfor\u001b[0m \u001b[0mthe\u001b[0m \u001b[1;34m'{name}'\u001b[0m \u001b[0mproperty\u001b[0m \u001b[0mof\u001b[0m \u001b[1;33m{\u001b[0m\u001b[0mpname\u001b[0m\u001b[1;33m}\u001b[0m\u001b[1;33m\u001b[0m\u001b[1;33m\u001b[0m\u001b[0m\n",
      "\u001b[1;31mValueError\u001b[0m: \n    Invalid value of type 'builtins.str' received for the 'legendgrouptitle' property of scatter\n        Received value: 'Group Title 1'\n\n    The 'legendgrouptitle' property is an instance of Legendgrouptitle\n    that may be specified as:\n      - An instance of :class:`plotly.graph_objs.scatter.Legendgrouptitle`\n      - A dict of string/value properties that will be passed\n        to the Legendgrouptitle constructor\n\n        Supported dict properties:\n            \n            font\n                Sets this legend group's title font.\n            text\n                Sets the title of the legend group.\n"
     ]
    }
   ],
   "source": [
    "import plotly.graph_objects as go\n",
    "\n",
    "trace1 = go.Scatter(\n",
    "    x=[1, 2, 3],\n",
    "    y=[1, 3, 2],\n",
    "    name='Group 1',\n",
    "    legendgrouptitle='Group Title 1'\n",
    ")\n",
    "\n",
    "trace2 = go.Scatter(\n",
    "    x=[1, 2, 3],\n",
    "    y=[2, 1, 3],\n",
    "    name='Group 2',\n",
    "    legendgrouptitle='Group Title 2'\n",
    ")\n",
    "\n",
    "data = [trace1, trace2]\n",
    "\n",
    "layout = go.Layout(\n",
    "    showlegend=True\n",
    ")\n",
    "\n",
    "fig = go.Figure(data=data, layout=layout)\n",
    "\n",
    "fig.show()"
   ]
  },
  {
   "cell_type": "code",
   "execution_count": 1,
   "id": "2e9d2a6e",
   "metadata": {},
   "outputs": [],
   "source": [
    "import pandas as pd\n",
    "import plotly.graph_objects as go\n",
    "import dash\n",
    "import dash_core_components as dcc\n",
    "import dash_html_components as html\n",
    "from dash.dependencies import Input, Output"
   ]
  },
  {
   "cell_type": "code",
   "execution_count": 2,
   "id": "4ccf574d",
   "metadata": {},
   "outputs": [
    {
     "name": "stdout",
     "output_type": "stream",
     "text": [
      "   Unnamed: 0 Location    Latitude, Longitude         Date Name_en Name_ko  \\\n",
      "0           0    Kilju  40.963361, 129.320537  6/1/1911 -     ImOI     임옥인   \n",
      "1           1  Hamhung  39.991616, 127.612627       1931 -    ImOI     임옥인   \n",
      "2           2     Nara  34.696509, 135.830573    3/1932 -     ImOI     임옥인   \n",
      "3           3  Hamhung  39.991616, 127.612627        1935-    ImOI     임옥인   \n",
      "4           4   Wonsan  39.153670, 127.446306      1937 -     ImOI     임옥인   \n",
      "\n",
      "    Latitude   Longitude Start_date End_date  \n",
      "0  40.963361  129.320537   6/1/1911      NaN  \n",
      "1  39.991616  127.612627       1931      NaN  \n",
      "2  34.696509  135.830573     3/1932      NaN  \n",
      "3  39.991616  127.612627       1935      NaN  \n",
      "4  39.153670  127.446306       1937      NaN  \n"
     ]
    }
   ],
   "source": [
    "collected = pd.read_csv('Collected.csv')\n",
    "print(collected.head())"
   ]
  },
  {
   "cell_type": "code",
   "execution_count": 3,
   "id": "32ceed16",
   "metadata": {},
   "outputs": [],
   "source": [
    "# Dash App\n",
    "from jupyter_dash import JupyterDash\n",
    "app = JupyterDash(__name__)"
   ]
  },
  {
   "cell_type": "code",
   "execution_count": 4,
   "id": "0cb0b57e",
   "metadata": {
    "scrolled": true
   },
   "outputs": [
    {
     "name": "stdout",
     "output_type": "stream",
     "text": [
      "[{'label': 'Im Ok-in', 'value': 'Im Ok-in'}, {'label': 'Shim Hoon', 'value': 'Shim Hoon'}, {'label': 'Lee Kwang-soo', 'value': 'Lee Kwang-soo'}, {'label': 'Kim Myung-soon', 'value': 'Kim Myung-soon'}, {'label': 'Im Soon-deuk', 'value': 'Im Soon-deuk'}, {'label': 'Kim Nam-cheon', 'value': 'Kim Nam-cheon'}, {'label': 'Mo Yoon-sook', 'value': 'Mo Yoon-sook'}, {'label': 'Ju Yo-han', 'value': 'Ju Yo-han'}, {'label': 'Lee Sun-hee', 'value': 'Lee Sun-hee'}, {'label': 'Cha Mi-ri-sa', 'value': 'Cha Mi-ri-sa'}, {'label': 'Yeom Sang-seob', 'value': 'Yeom Sang-seob'}, {'label': 'No Chun-myeong', 'value': 'No Chun-myeong'}, {'label': 'Kang Kyung-ae', 'value': 'Kang Kyung-ae'}, {'label': 'Baek Shin-ae', 'value': 'Baek Shin-ae'}, {'label': 'Han Mu-sook', 'value': 'Han Mu-sook'}, {'label': 'Park Hwa-seong', 'value': 'Park Hwa-seong'}, {'label': 'Choi Jeong-hee', 'value': 'Choi Jeong-hee'}, {'label': 'Choi Seung-hee', 'value': 'Choi Seung-hee'}, {'label': 'Na Hye-seok', 'value': 'Na Hye-seok'}, {'label': 'Lee Sang', 'value': 'Lee Sang'}, {'label': 'Kim Sa-ryang', 'value': 'Kim Sa-ryang'}, {'label': 'Ji Ha-ryeon', 'value': 'Ji Ha-ryeon'}]\n"
     ]
    }
   ],
   "source": [
    "# Create dictionary of author names\n",
    "en_name = ['Im Ok-in', 'Shim Hoon', 'Lee Kwang-soo', 'Kim Myung-soon', 'Im Soon-deuk', 'Kim Nam-cheon', 'Mo Yoon-sook', 'Ju Yo-han', 'Lee Sun-hee', 'Cha Mi-ri-sa', 'Yeom Sang-seob', 'No Chun-myeong', 'Kang Kyung-ae', 'Baek Shin-ae', 'Han Mu-sook', 'Park Hwa-seong', 'Choi Jeong-hee', 'Choi Seung-hee', 'Na Hye-seok', 'Lee Sang', 'Kim Sa-ryang', 'Ji Ha-ryeon']\n",
    "authors_collected = [{'label' : name, 'value': name} for name in en_name]\n",
    "print(authors_collected)"
   ]
  },
  {
   "cell_type": "code",
   "execution_count": 5,
   "id": "8d82959e",
   "metadata": {},
   "outputs": [
    {
     "name": "stdout",
     "output_type": "stream",
     "text": [
      "{'Im Ok-in': '임옥인', 'Shim Hoon': '심훈', 'Lee Kwang-soo': '이광수', 'Kim Myung-soon': '김명순', 'Im Soon-deuk': '임순득', 'Kim Nam-cheon': '김남천', 'Mo Yoon-sook': '모윤숙', 'Ju Yo-han': '주요한', 'Lee Sun-hee': '이선희', 'Cha Mi-ri-sa': '차미리사', 'Yeom Sang-seob': '염상섭', 'No Chun-myeong': '노천명', 'Kang Kyung-ae': '강경애', 'Baek Shin-ae': '백신애', 'Han Mu-sook': '한무숙', 'Park Hwa-seong': '박화성', 'Choi Jeong-hee': '최정희', 'Choi Seung-hee': '최승희', 'Na Hye-seok': '나혜석', 'Lee Sang': '이상', 'Kim Sa-ryang': '김사량', 'Ji Ha-ryeon': '지하련'}\n"
     ]
    }
   ],
   "source": [
    "# create a dictionary of english name : korean name\n",
    "ko_name = list(collected['Name_ko'].unique())\n",
    "ko_en_name = {key:value for key, value in zip(en_name, ko_name)}\n",
    "print(ko_en_name)"
   ]
  },
  {
   "cell_type": "code",
   "execution_count": 6,
   "id": "a4735b63",
   "metadata": {},
   "outputs": [],
   "source": [
    "# Author name dropdown\n",
    "app.layout = html.Div([\n",
    "    html.H2(id = 'author_name_en_ko', style={'text-align': 'center'}),\n",
    "    dcc.Dropdown(\n",
    "        id = 'author_dropdown',\n",
    "        value = 'Na Hye-seok',\n",
    "        options = authors_collected),\n",
    "    html.Div(\n",
    "        style={'display': 'flex', 'justify-content': 'center', 'align-items': 'center', 'margin-top': '10px'},\n",
    "        children = [\n",
    "        dcc.Graph(id = 'map', figure = {}, style={'width': '960px', 'height': '720px', 'margin':'0'})\n",
    "        ]\n",
    "    )\n",
    "])\n",
    "#'width': '1000px', 'height': '800px', 'display': 'flex', 'justify-content': 'center'"
   ]
  },
  {
   "cell_type": "code",
   "execution_count": 7,
   "id": "04296ee3",
   "metadata": {},
   "outputs": [],
   "source": [
    "# Callback: author_dropdown --> print_name_en_ko\n",
    "@app.callback(\n",
    "    Output(component_id = 'author_name_en_ko', component_property = 'children'),\n",
    "    Input(component_id = 'author_dropdown', component_property = 'value')\n",
    ")\n",
    "def print_name_en_ko(author_chosen):\n",
    "    return \"{}\\'s Itinerary \\t | {}의 여정\".format(author_chosen, ko_en_name.get(author_chosen)) "
   ]
  },
  {
   "cell_type": "code",
   "execution_count": 8,
   "id": "2136d3f6",
   "metadata": {},
   "outputs": [],
   "source": [
    "# Callback: author_dropdown --> update_graph\n",
    "@app.callback(\n",
    "    Output(component_id = 'map', component_property = 'figure'),\n",
    "    Input(component_id = 'author_dropdown', component_property = 'value')\n",
    ")\n",
    "def update_graph(author_chosen):\n",
    "    author_df = collected[collected['Name_ko']==ko_en_name.get(author_chosen)].reset_index()\n",
    "    fig = go.Figure(data=go.Scattergeo(\n",
    "                lon = author_df['Longitude'],\n",
    "                lat = author_df['Latitude'],\n",
    "                text = author_df['Location'],\n",
    "                mode = 'markers'))\n",
    "    return fig "
   ]
  },
  {
   "cell_type": "code",
   "execution_count": 9,
   "id": "da7e032f",
   "metadata": {},
   "outputs": [
    {
     "name": "stdout",
     "output_type": "stream",
     "text": [
      "Dash app running on http://127.0.0.1:8055/\n"
     ]
    }
   ],
   "source": [
    "# specify port if error about port number being used already \n",
    "if __name__ == '__main__':\n",
    "    app.run_server(port = 8055)"
   ]
  }
 ],
 "metadata": {
  "kernelspec": {
   "display_name": "Python 3 (ipykernel)",
   "language": "python",
   "name": "python3"
  },
  "language_info": {
   "codemirror_mode": {
    "name": "ipython",
    "version": 3
   },
   "file_extension": ".py",
   "mimetype": "text/x-python",
   "name": "python",
   "nbconvert_exporter": "python",
   "pygments_lexer": "ipython3",
   "version": "3.9.13"
  }
 },
 "nbformat": 4,
 "nbformat_minor": 5
}
