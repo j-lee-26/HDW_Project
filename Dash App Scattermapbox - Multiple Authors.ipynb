{
 "cells": [
  {
   "cell_type": "code",
   "execution_count": 1,
   "id": "b74b8066",
   "metadata": {},
   "outputs": [],
   "source": [
    "import pandas as pd\n",
    "import plotly.graph_objects as go\n",
    "import dash\n",
    "import dash_core_components as dcc\n",
    "import dash_html_components as html\n",
    "from dash.dependencies import Input, Output"
   ]
  },
  {
   "cell_type": "code",
   "execution_count": 2,
   "id": "38bc5349",
   "metadata": {},
   "outputs": [],
   "source": [
    "mapbox_access_token = open('mapbox_token.txt').read()"
   ]
  },
  {
   "cell_type": "code",
   "execution_count": 3,
   "id": "e5623813",
   "metadata": {
    "scrolled": true
   },
   "outputs": [
    {
     "name": "stdout",
     "output_type": "stream",
     "text": [
      "   Unnamed: 0 Location    Latitude, Longitude         Date Name_en Name_ko  \\\n",
      "0           0    Kilju  40.963361, 129.320537  6/1/1911 -     ImOI     임옥인   \n",
      "1           1  Hamhung  39.991616, 127.612627       1931 -    ImOI     임옥인   \n",
      "2           2     Nara  34.696509, 135.830573    3/1932 -     ImOI     임옥인   \n",
      "3           3  Hamhung  39.991616, 127.612627        1935-    ImOI     임옥인   \n",
      "4           4   Wonsan  39.153670, 127.446306      1937 -     ImOI     임옥인   \n",
      "\n",
      "    Latitude   Longitude Start_date End_date  \n",
      "0  40.963361  129.320537   6/1/1911      NaN  \n",
      "1  39.991616  127.612627       1931      NaN  \n",
      "2  34.696509  135.830573     3/1932      NaN  \n",
      "3  39.991616  127.612627       1935      NaN  \n",
      "4  39.153670  127.446306       1937      NaN  \n"
     ]
    }
   ],
   "source": [
    "collected = pd.read_csv('Collected.csv')\n",
    "print(collected.head())"
   ]
  },
  {
   "cell_type": "code",
   "execution_count": 10,
   "id": "a8332f9b",
   "metadata": {},
   "outputs": [],
   "source": [
    "# create a dictionary of english name : korean name\n",
    "ko_name = list(collected['Name_ko'].unique())\n",
    "ko_en_name = {key:value for key, value in zip(en_name, ko_name)}"
   ]
  },
  {
   "cell_type": "code",
   "execution_count": 4,
   "id": "45ce9341",
   "metadata": {},
   "outputs": [],
   "source": [
    "# Create dictionary of author names\n",
    "en_name = ['Im Ok-in', 'Shim Hoon', 'Lee Kwang-soo', 'Kim Myung-soon', 'Im Soon-deuk', 'Kim Nam-cheon', 'Mo Yoon-sook', 'Ju Yo-han', 'Lee Sun-hee', 'Cha Mi-ri-sa', 'Yeom Sang-seob', 'No Chun-myeong', 'Kang Kyung-ae', 'Baek Shin-ae', 'Han Mu-sook', 'Park Hwa-seong', 'Choi Jeong-hee', 'Choi Seung-hee', 'Na Hye-seok', 'Lee Sang', 'Kim Sa-ryang', 'Ji Ha-ryeon']\n",
    "authors_collected = [{'label' : name, 'value': name} for name in en_name]"
   ]
  },
  {
   "cell_type": "code",
   "execution_count": 5,
   "id": "5e7a24d2",
   "metadata": {},
   "outputs": [],
   "source": [
    "# Dash App\n",
    "from jupyter_dash import JupyterDash\n",
    "app = JupyterDash(__name__)"
   ]
  },
  {
   "cell_type": "code",
   "execution_count": 13,
   "id": "fd15d975",
   "metadata": {},
   "outputs": [],
   "source": [
    "# app layout using scattermapbox \n",
    "app.layout = html.Div([\n",
    "    html.H1(id = 'author_name_en_ko', children = '20th Century Women Writers Itinerary', style={'text-align': 'center'}),\n",
    "    html.Div([dcc.Dropdown(\n",
    "        id = 'author_dropdown',\n",
    "        value = 'Na Hye-seok',\n",
    "        multi = True,\n",
    "        options = authors_collected)]),\n",
    "    html.Div([\n",
    "    dcc.Graph(id = 'map', figure = {})]),\n",
    "    html.Br(),\n",
    "    html.Button('Next ▶', id='next_button')\n",
    "    ])"
   ]
  },
  {
   "cell_type": "code",
   "execution_count": null,
   "id": "64a9023e",
   "metadata": {},
   "outputs": [],
   "source": [
    "#for whatever authors are selected, create a list of random colors generated\n",
    "#make sure that the colors don't overlap\n",
    "#random color generator? \n",
    "#print(index) before the graph with the colors and \n",
    "# marker(color - list I'd have created)"
   ]
  },
  {
   "cell_type": "code",
   "execution_count": 17,
   "id": "19484cdf",
   "metadata": {},
   "outputs": [],
   "source": [
    "# Callback: author_dropdown --> update_graph\n",
    "@app.callback(\n",
    "    Output(component_id = 'map', component_property = 'figure'),\n",
    "    [Input(component_id = 'author_dropdown', component_property = 'value')]\n",
    ")\n",
    "def update_graph(author_chosen):\n",
    "    counts = len(author_chosen)\n",
    "    author_ko_names = []\n",
    "    for i in range(len(author_chosen)):\n",
    "        author_ko_names[i] = ko_en_name.get(author_chosen[i])\n",
    "    \n",
    "    #need a for loop \n",
    "    df = collected[collected['Name_ko'].isin(author_ko_names)].reset_index()\n",
    "    \n",
    "    #fig = go.Figure()\n",
    "    #for i, row in author_df.iterrows():\n",
    "    #    fig.add_trace(): \n",
    "    fig =go.Figure(go.Scattermapbox(\n",
    "                    lon = author_df['longitude'],\n",
    "                    lat = df_sub['latitude'],\n",
    "                    mode='markers',\n",
    "                    marker={'color' : author_df['Name_ko'].unique()},\n",
    "                    #unselected={'marker' : {'opacity':1}},\n",
    "                    #selected={'marker' : {'opacity':0.5, 'size':25}},\n",
    "                    hoverinfo='text',\n",
    "                    hovertext=author_df['Location']\n",
    "                    #customdata=df_sub['website']\n",
    "    ))\n",
    "\n",
    "    # Return figure\n",
    "    return fig "
   ]
  },
  {
   "cell_type": "code",
   "execution_count": null,
   "id": "1ef9d868",
   "metadata": {},
   "outputs": [],
   "source": [
    "# Callback: author_dropdown --> update_graph\n",
    "#look at recycle.py (return figure in dictionary form )"
   ]
  },
  {
   "cell_type": "code",
   "execution_count": null,
   "id": "35b5e476",
   "metadata": {},
   "outputs": [],
   "source": [
    "# specify port if error about port number being used already \n",
    "if __name__ == '__main__':\n",
    "    app.run_server(port = 8056)"
   ]
  }
 ],
 "metadata": {
  "kernelspec": {
   "display_name": "Python 3 (ipykernel)",
   "language": "python",
   "name": "python3"
  },
  "language_info": {
   "codemirror_mode": {
    "name": "ipython",
    "version": 3
   },
   "file_extension": ".py",
   "mimetype": "text/x-python",
   "name": "python",
   "nbconvert_exporter": "python",
   "pygments_lexer": "ipython3",
   "version": "3.9.13"
  }
 },
 "nbformat": 4,
 "nbformat_minor": 5
}
