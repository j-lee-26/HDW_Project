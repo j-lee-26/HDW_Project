{
 "cells": [
  {
   "cell_type": "code",
   "execution_count": 1,
   "id": "0e775e03",
   "metadata": {},
   "outputs": [],
   "source": [
    "import pandas as pd\n",
    "import plotly.graph_objects as go\n",
    "import dash\n",
    "import dash_core_components as dcc\n",
    "import dash_bootstrap_components as dbc\n",
    "import dash_html_components as html\n",
    "from dash.dependencies import Input, Output, State"
   ]
  },
  {
   "cell_type": "code",
   "execution_count": 2,
   "id": "c30e6353",
   "metadata": {},
   "outputs": [],
   "source": [
    "mapbox_access_token = open('mapbox_token.txt').read()"
   ]
  },
  {
   "cell_type": "code",
   "execution_count": 3,
   "id": "d7da61d8",
   "metadata": {},
   "outputs": [
    {
     "name": "stdout",
     "output_type": "stream",
     "text": [
      "   Unnamed: 0.3  Unnamed: 0.2  Unnamed: 0.1  Unnamed: 0 Location  \\\n",
      "0             0             0             0           0    Kilju   \n",
      "1             1             1             1           1  Hamhung   \n",
      "2             2             2             2           2     Nara   \n",
      "3             3             3             3           3  Hamhung   \n",
      "4             4             4             4           4   Wonsan   \n",
      "\n",
      "     Latitude, Longitude         Date Name_en Name_ko   Latitude   Longitude  \\\n",
      "0  40.963361, 129.320537  6/1/1911 -     ImOI     임옥인  40.963361  129.320537   \n",
      "1  39.991616, 127.612627       1931 -    ImOI     임옥인  39.991616  127.612627   \n",
      "2  34.696509, 135.830573    3/1932 -     ImOI     임옥인  34.696509  135.830573   \n",
      "3  39.991616, 127.612627        1935-    ImOI     임옥인  39.991616  127.612627   \n",
      "4  39.153670, 127.446306      1937 -     ImOI     임옥인  39.153670  127.446306   \n",
      "\n",
      "  Start_date End_date Full_Name_en          colors  \n",
      "0   6/1/1911      NaN     Im Ok-in  rgb(118, 3, 3)  \n",
      "1       1931      NaN     Im Ok-in  rgb(118, 3, 3)  \n",
      "2     3/1932      NaN     Im Ok-in  rgb(118, 3, 3)  \n",
      "3       1935      NaN     Im Ok-in  rgb(118, 3, 3)  \n",
      "4       1937      NaN     Im Ok-in  rgb(118, 3, 3)  \n"
     ]
    }
   ],
   "source": [
    "collected = pd.read_csv('Collected.csv')\n",
    "print(collected.head())"
   ]
  },
  {
   "cell_type": "code",
   "execution_count": null,
   "id": "a710bcf1",
   "metadata": {},
   "outputs": [],
   "source": [
    "# scattermapbox with basic configuration\n",
    "fig = go.Figure(go.Scattermapbox())\n",
    "\n",
    "fig.update_layout(\n",
    "            autosize=True,\n",
    "            margin= { 'r': 0, 't': 0, 'b': 0, 'l': 0 },\n",
    "            mapbox = dict(\n",
    "                accesstoken=mapbox_access_token,\n",
    "                style = 'light', \n",
    "                center = dict(lat = 40, lon = 140),\n",
    "                zoom = 1.1\n",
    "            ))"
   ]
  },
  {
   "cell_type": "code",
   "execution_count": null,
   "id": "7573a8dc",
   "metadata": {},
   "outputs": [],
   "source": [
    "# Create dictionary of author names for dropdown\n",
    "authors_collected = [{'label' : name, 'value': name} for name in collected['Full_Name_en'].unique()]"
   ]
  },
  {
   "cell_type": "code",
   "execution_count": null,
   "id": "e061d836",
   "metadata": {},
   "outputs": [],
   "source": [
    "# Dash App\n",
    "from jupyter_dash import JupyterDash\n",
    "app = JupyterDash(__name__, external_stylesheets=[dbc.themes.BOOTSTRAP])"
   ]
  },
  {
   "cell_type": "code",
   "execution_count": null,
   "id": "3435237c",
   "metadata": {},
   "outputs": [],
   "source": [
    "# app layout using scattermapbox \n",
    "app.layout = dbc.Container([\n",
    "    dbc.Row(\n",
    "        dbc.Col(\n",
    "            html.H1(\"20th Century Korean Women Writers\", style = {'font-family' : 'Palatino, serif'}),\n",
    "            width={\"size\": 6, \"offset\": 3})\n",
    "    ),\n",
    "    dbc.Row([\n",
    "        dbc.Col(\n",
    "        dcc.Dropdown(\n",
    "            id = 'author_dropdown',\n",
    "            placeholder = 'Select an author',\n",
    "            multi = False,\n",
    "            options = authors_collected), \n",
    "        width = {'size' : 8}\n",
    "        ),\n",
    "        dbc.Col(id = 'location_dropdown_container')\n",
    "    ]),\n",
    "    dbc.Row([\n",
    "        dbc.Col(\n",
    "            dcc.Graph(id = 'map', \n",
    "                      figure = fig, config={'scrollZoom': False}), \n",
    "            width = {'size' : 10, 'order' : 1}),\n",
    "        dbc.Col(\n",
    "            dbc.Stack(\n",
    "                html.Button('Next ▶', id='next_button'),\n",
    "                html.P(id = 'info')\n",
    "            ),width = {'order' : 2})\n",
    "    ])\n",
    "])"
   ]
  },
  {
   "cell_type": "code",
   "execution_count": null,
   "id": "0dcdacc5",
   "metadata": {},
   "outputs": [],
   "source": [
    "# Callback: return a scattermapbox when a single author is chosen \n",
    "@app.callback(\n",
    "    Output(component_id = 'map', component_property = 'figure'),\n",
    "    Input(component_id = 'author_dropdown', component_property = 'author')\n",
    ")\n",
    "def scattermap(author):\n",
    "    if author is not None: \n",
    "        df = collected[collected['Full_Name_en'].isin(list(author))].reset_index()\n",
    "        fig = [go.Scattermapbox(\n",
    "                    lat=df['Latitude'],\n",
    "                    lon=df['Longitude'],\n",
    "                    mode='markers',\n",
    "                    marker={\n",
    "                        'color': df['colors'],  # Assign color based on the 'Name_ko' column value\n",
    "                        'size': 9\n",
    "                    },\n",
    "                    unselected={'marker' : {'opacity':1}},\n",
    "                    selected={'marker' : {'opacity':0.5, 'size':10}},\n",
    "                    hoverinfo='text',\n",
    "                    hovertext=df['Location'],\n",
    "                    customdata=df[['Date', 'Location']]\n",
    "            )]\n",
    "    \n",
    "        return {\n",
    "            'data' : fig,\n",
    "            'layout': go.Layout(\n",
    "                        clickmode = 'select',\n",
    "                        hovermode = 'closest',\n",
    "                        autosize=True,\n",
    "                        margin= { 'r': 0, 't': 0, 'b': 0, 'l': 0 },\n",
    "                        mapbox = dict(\n",
    "                            accesstoken=mapbox_access_token,\n",
    "                            style = 'light', \n",
    "                            center = dict(lat = 40, lon = 140),\n",
    "                            zoom = 1.1\n",
    "                )    \n",
    "            )\n",
    "\n",
    "        }\n",
    "    else: \n",
    "        return {\n",
    "            'data' : [go.Scattermapbox()],\n",
    "            'layout': go.Layout(\n",
    "                        clickmode = 'select',\n",
    "                        autosize=True,\n",
    "                        margin= { 'r': 0, 't': 0, 'b': 0, 'l': 0 },\n",
    "                        mapbox = dict(\n",
    "                            accesstoken=mapbox_access_token,\n",
    "                            style = 'light', \n",
    "                            center = dict(lat = 40, lon = 140),\n",
    "                            zoom = 1.1\n",
    "            )\n",
    "        )\n",
    "    }\n",
    "    #return a map with clickable markers\n",
    "    #do i need custom data for this? "
   ]
  },
  {
   "cell_type": "code",
   "execution_count": null,
   "id": "a8c3ef79",
   "metadata": {},
   "outputs": [],
   "source": [
    "# Callback: return a location dropdown \n",
    "@app.callback(\n",
    "    Output(component_id = 'location_dropdown', component_property = 'children'),\n",
    "    Input(component_id = 'author_dropdown', component_property = 'author')\n",
    ")\n",
    "def year_dropdown(author):\n",
    "    if author is not None: \n",
    "        df = collected[collected['Full_Name_en'].isin(list(author))].reset_index()\n",
    "        dropdown = dcc.Dropdown(\n",
    "                    placeholder = 'Select a location'\n",
    "                    multi = False,\n",
    "                    options = [{'label' : loc, 'value': loc} for loc in df['Location'].unique()]\n",
    "        return dropdown\n",
    "    else:\n",
    "        return None"
   ]
  },
  {
   "cell_type": "code",
   "execution_count": null,
   "id": "c4d27fc1",
   "metadata": {},
   "outputs": [],
   "source": [
    "# Callback: zoom into the location when a location is selected from the location dropdown  \n",
    "@app.callback(\n",
    "    Output(component_id = 'map', component_property = 'figure'),\n",
    "    Input(component_id = 'location_dropdown', component_property = 'location')\n",
    ")\n",
    "def update_map(location):\n",
    "    if location is not None: \n",
    "        df = collected[collected['Location'].isin(list(location))].reset_index()\n",
    "        d_lat = df['Latitutde'].unique()[0]\n",
    "        d_lon = df['Longitude'].unique()[0]\n",
    "        fig = [go.Scattermapbox(\n",
    "                    lat=df['Latitude'],\n",
    "                    lon=df['Longitude'],\n",
    "                    mode='markers',\n",
    "                    marker={\n",
    "                        'color': df['colors'],  # Assign color based on the 'Name_ko' column value\n",
    "                        'size': 9\n",
    "                    },\n",
    "                    unselected={'marker' : {'opacity':1}},\n",
    "                    selected={'marker' : {'opacity':0.5, 'size':25}},\n",
    "                    hoverinfo='text',\n",
    "                    hovertext=df['Location'],\n",
    "                    customdata=df[['Date', 'Location']]\n",
    "            )]\n",
    "    \n",
    "        return {\n",
    "            'data' : fig,\n",
    "            'layout': go.Layout(\n",
    "                    clickmode = 'select',\n",
    "                    hovermode = 'closest',\n",
    "                    autosize=True,\n",
    "                    margin= { 'r': 0, 't': 0, 'b': 0, 'l': 0 },\n",
    "                    mapbox = dict(\n",
    "                        accesstoken=mapbox_access_token,\n",
    "                        style = 'light', \n",
    "                        center = dict(lat = d_lat, lon = d_lon),\n",
    "                        zoom = 10  #IM NOT TOO SURE ABOUT THIS ZOOM LEVEL \n",
    "                )    \n",
    "            )\n",
    "\n",
    "        }\n",
    "    else: \n",
    "        return {\n",
    "            'data' : fig,\n",
    "            'layout': go.Layout(\n",
    "                        clickmode = 'select',\n",
    "                        autosize=True,\n",
    "                        margin= { 'r': 0, 't': 0, 'b': 0, 'l': 0 },\n",
    "                        mapbox = dict(\n",
    "                            accesstoken=mapbox_access_token,\n",
    "                            style = 'light', \n",
    "                            center = dict(lat = 40, lon = 140),\n",
    "                            zoom = 1.1\n",
    "            )\n",
    "        )\n",
    "    }"
   ]
  },
  {
   "cell_type": "code",
   "execution_count": null,
   "id": "4153e6cf",
   "metadata": {},
   "outputs": [],
   "source": [
    "# Callback: click marker and info is displayed\n",
    "@app.callback(\n",
    "    Output(component_id = 'info', component_property = 'children'),\n",
    "    [Input(component_id = 'map', component_property = 'clickData')]\n",
    ")\n",
    "def display_info(clickData):\n",
    "    if clickData is None:\n",
    "        return 'Click on any marker'\n",
    "    else:\n",
    "        return clickData['points'][0]['customdata']"
   ]
  },
  {
   "cell_type": "code",
   "execution_count": null,
   "id": "0da86a32",
   "metadata": {},
   "outputs": [],
   "source": [
    "#  SINGLE AUTHOR\n",
    "# Callback location (if the location is clicked, zoom into that location)\n",
    "# Callback --> click the marker and display PURPOSE + location (use BOOTSTRAP) \n",
    "# Callback --> NEXT BUTTON (add trace; line?) --> should this only be for 1 author each time? \n",
    "     # (this is going to need a separate notebook) "
   ]
  },
  {
   "cell_type": "code",
   "execution_count": null,
   "id": "dbebefcd",
   "metadata": {},
   "outputs": [],
   "source": [
    "current_index = 0  # Index to keep track of the current marker\n",
    "opacity_values = [1] * len(df) "
   ]
  },
  {
   "cell_type": "code",
   "execution_count": null,
   "id": "eb257874",
   "metadata": {},
   "outputs": [],
   "source": [
    "# Callback --> NEXT BUTTON \n",
    "\n",
    "@app.callback(\n",
    "    Output(component_id = 'location_dropdown', component_property = 'children'),\n",
    "    Input(component_id = 'next_button', component_property = 'n_clicks'),\n",
    "    State(component_id = 'map', component_property = 'figure')\n",
    ")\n",
    "def next_location(n_clicks, figure):\n"
   ]
  },
  {
   "cell_type": "code",
   "execution_count": null,
   "id": "adc415c6",
   "metadata": {},
   "outputs": [],
   "source": [
    "# next button\n",
    "# https://github.com/Coding-with-Adam/Dash-by-Plotly/blob/master/Dash%20Components/Button/app.py\n",
    "# https://chat.openai.com/share/9c91effd-e3ea-44c4-b7b4-80407e1df257\n"
   ]
  }
 ],
 "metadata": {
  "kernelspec": {
   "display_name": "Python 3 (ipykernel)",
   "language": "python",
   "name": "python3"
  },
  "language_info": {
   "codemirror_mode": {
    "name": "ipython",
    "version": 3
   },
   "file_extension": ".py",
   "mimetype": "text/x-python",
   "name": "python",
   "nbconvert_exporter": "python",
   "pygments_lexer": "ipython3",
   "version": "3.9.13"
  }
 },
 "nbformat": 4,
 "nbformat_minor": 5
}
