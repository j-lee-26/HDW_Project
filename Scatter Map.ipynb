{
 "cells": [
  {
   "cell_type": "code",
   "execution_count": null,
   "id": "ef09f140",
   "metadata": {},
   "outputs": [],
   "source": [
    "import pandas as pd\n",
    "import plotly.graph_objects as go\n",
    "import dash\n",
    "from dash import Dash, dcc, html, Input, Output"
   ]
  },
  {
   "cell_type": "code",
   "execution_count": null,
   "id": "2c98dadf",
   "metadata": {},
   "outputs": [],
   "source": [
    "collected = pd.read_csv('Collected.csv')"
   ]
  },
  {
   "cell_type": "code",
   "execution_count": null,
   "id": "8abbe93a",
   "metadata": {
    "scrolled": true
   },
   "outputs": [],
   "source": [
    "print(collected.head(10))"
   ]
  },
  {
   "cell_type": "code",
   "execution_count": null,
   "id": "7168fef5",
   "metadata": {},
   "outputs": [],
   "source": [
    "# print the list of authors in the collected dataset\n",
    "en_authors = collected['Name_en'].unique()\n",
    "ko_authors = collected['Name_ko'].unique()    \n",
    "print(en_authors)\n",
    "print(ko_authors)"
   ]
  },
  {
   "cell_type": "code",
   "execution_count": null,
   "id": "a3af692c",
   "metadata": {
    "scrolled": true
   },
   "outputs": [],
   "source": [
    "# Replace nan with 이상 \n",
    "collected['Name_ko'] = collected.apply(lambda row: str(row['Name_ko']).replace(\"nan\",\"이상\") if (row['Name_en']== 'YiSang') else row['Name_ko'], axis = 1)\n",
    "print(collected['Name_ko'].unique())"
   ]
  },
  {
   "cell_type": "code",
   "execution_count": null,
   "id": "33c57aa3",
   "metadata": {},
   "outputs": [],
   "source": [
    "# change collected.csv\n",
    "#collected.to_csv('Collected.csv')   "
   ]
  },
  {
   "cell_type": "code",
   "execution_count": null,
   "id": "24edb0ea",
   "metadata": {
    "scrolled": true
   },
   "outputs": [],
   "source": [
    "# Nahyeseok DataFrame filtered from Collected DataFrame\n",
    "nahyeseok_collected = collected[collected['Name_en'] == \"NaHS\"].reset_index()\n",
    "print(nahyeseok_collected.head())"
   ]
  },
  {
   "cell_type": "code",
   "execution_count": null,
   "id": "79e82463",
   "metadata": {
    "scrolled": true
   },
   "outputs": [],
   "source": [
    "# Map Nahyeseok's Itinerary \n",
    "fig = go.Figure(data=go.Scattergeo(\n",
    "                lon = nahyeseok_collected['Longitude'],\n",
    "                lat = nahyeseok_collected['Latitude'],\n",
    "                text = nahyeseok_collected['Location'],\n",
    "                mode = 'markers'))\n",
    "\n",
    "fig.update_layout(\n",
    "        title = 'Nahyeseok\\'s Itinerary')\n",
    "fig.show()"
   ]
  }
 ],
 "metadata": {
  "kernelspec": {
   "display_name": "Python 3 (ipykernel)",
   "language": "python",
   "name": "python3"
  },
  "language_info": {
   "codemirror_mode": {
    "name": "ipython",
    "version": 3
   },
   "file_extension": ".py",
   "mimetype": "text/x-python",
   "name": "python",
   "nbconvert_exporter": "python",
   "pygments_lexer": "ipython3",
   "version": "3.9.13"
  }
 },
 "nbformat": 4,
 "nbformat_minor": 5
}
