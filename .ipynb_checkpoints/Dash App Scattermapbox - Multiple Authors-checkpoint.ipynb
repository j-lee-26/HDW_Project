{
 "cells": [
  {
   "cell_type": "code",
   "execution_count": 1,
   "id": "b74b8066",
   "metadata": {},
   "outputs": [],
   "source": [
    "import pandas as pd\n",
    "import plotly.graph_objects as go\n",
    "import dash\n",
    "import dash_core_components as dcc\n",
    "import dash_html_components as html\n",
    "from dash.dependencies import Input, Output"
   ]
  },
  {
   "cell_type": "code",
   "execution_count": 2,
   "id": "38bc5349",
   "metadata": {},
   "outputs": [],
   "source": [
    "mapbox_access_token = open('mapbox_token.txt').read()"
   ]
  },
  {
   "cell_type": "code",
   "execution_count": 3,
   "id": "e5623813",
   "metadata": {
    "scrolled": true
   },
   "outputs": [
    {
     "name": "stdout",
     "output_type": "stream",
     "text": [
      "   Unnamed: 0.1  Unnamed: 0 Location    Latitude, Longitude         Date  \\\n",
      "0             0           0    Kilju  40.963361, 129.320537  6/1/1911 -    \n",
      "1             1           1  Hamhung  39.991616, 127.612627       1931 -   \n",
      "2             2           2     Nara  34.696509, 135.830573    3/1932 -    \n",
      "3             3           3  Hamhung  39.991616, 127.612627        1935-   \n",
      "4             4           4   Wonsan  39.153670, 127.446306      1937 -    \n",
      "\n",
      "  Name_en Name_ko   Latitude   Longitude Start_date End_date Full_Name_en  \n",
      "0    ImOI     임옥인  40.963361  129.320537   6/1/1911      NaN     Im Ok-in  \n",
      "1    ImOI     임옥인  39.991616  127.612627       1931      NaN     Im Ok-in  \n",
      "2    ImOI     임옥인  34.696509  135.830573     3/1932      NaN     Im Ok-in  \n",
      "3    ImOI     임옥인  39.991616  127.612627       1935      NaN     Im Ok-in  \n",
      "4    ImOI     임옥인  39.153670  127.446306       1937      NaN     Im Ok-in  \n"
     ]
    }
   ],
   "source": [
    "collected = pd.read_csv('Collected.csv')\n",
    "print(collected.head())"
   ]
  },
  {
   "cell_type": "code",
   "execution_count": 4,
   "id": "a8332f9b",
   "metadata": {},
   "outputs": [],
   "source": [
    "# Create a dictionary of english name : korean name\n",
    "en_name = ['Im Ok-in', 'Shim Hoon', 'Lee Kwang-soo', 'Kim Myung-soon', 'Im Soon-deuk', 'Kim Nam-cheon', 'Mo Yoon-sook', 'Ju Yo-han', 'Lee Sun-hee', 'Cha Mi-ri-sa', 'Yeom Sang-seob', 'No Chun-myeong', 'Kang Kyung-ae', 'Baek Shin-ae', 'Han Mu-sook', 'Park Hwa-seong', 'Choi Jeong-hee', 'Choi Seung-hee', 'Na Hye-seok', 'Lee Sang', 'Kim Sa-ryang', 'Ji Ha-ryeon']\n",
    "ko_name = list(collected['Name_ko'].unique())\n",
    "ko_en_name = {key:value for key, value in zip(ko_name, en_name)}"
   ]
  },
  {
   "cell_type": "code",
   "execution_count": 5,
   "id": "b9d17f2b",
   "metadata": {},
   "outputs": [
    {
     "name": "stdout",
     "output_type": "stream",
     "text": [
      "   Unnamed: 0.1  Unnamed: 0 Location    Latitude, Longitude         Date  \\\n",
      "0             0           0    Kilju  40.963361, 129.320537  6/1/1911 -    \n",
      "1             1           1  Hamhung  39.991616, 127.612627       1931 -   \n",
      "2             2           2     Nara  34.696509, 135.830573    3/1932 -    \n",
      "3             3           3  Hamhung  39.991616, 127.612627        1935-   \n",
      "4             4           4   Wonsan  39.153670, 127.446306      1937 -    \n",
      "\n",
      "  Name_en Name_ko   Latitude   Longitude Start_date End_date Full_Name_en  \n",
      "0    ImOI     임옥인  40.963361  129.320537   6/1/1911      NaN     Im Ok-in  \n",
      "1    ImOI     임옥인  39.991616  127.612627       1931      NaN     Im Ok-in  \n",
      "2    ImOI     임옥인  34.696509  135.830573     3/1932      NaN     Im Ok-in  \n",
      "3    ImOI     임옥인  39.991616  127.612627       1935      NaN     Im Ok-in  \n",
      "4    ImOI     임옥인  39.153670  127.446306       1937      NaN     Im Ok-in  \n"
     ]
    }
   ],
   "source": [
    "# Add a column of full english names\n",
    "collected['Full_Name_en'] = collected['Name_ko'].apply(lambda x: ko_en_name.get(x))\n",
    "print(collected.head())"
   ]
  },
  {
   "cell_type": "code",
   "execution_count": 6,
   "id": "ec2d685a",
   "metadata": {},
   "outputs": [],
   "source": [
    "#Update Collected.csv\n",
    "#collected.to_csv('Collected.csv')"
   ]
  },
  {
   "cell_type": "code",
   "execution_count": 7,
   "id": "45ce9341",
   "metadata": {},
   "outputs": [],
   "source": [
    "# Create dictionary of author names for dropdown\n",
    "authors_collected = [{'label' : name, 'value': name} for name in collected['Full_Name_en'].unique()]"
   ]
  },
  {
   "cell_type": "code",
   "execution_count": 8,
   "id": "64a9023e",
   "metadata": {},
   "outputs": [],
   "source": [
    "#for whatever authors are selected, create a list of random colors generated\n",
    "#make sure that the colors don't overlap\n",
    "#random color generator? \n",
    "#print(index) before the graph with the colors and \n",
    "# marker(color - list I'd have created)"
   ]
  },
  {
   "cell_type": "code",
   "execution_count": 9,
   "id": "9f337df1",
   "metadata": {},
   "outputs": [],
   "source": [
    "# random color generator \n",
    "import random \n",
    "\n",
    "def color_generator(authors):\n",
    "    color_dict = {}\n",
    "    for i in range(len(authors)):\n",
    "        r = random.randint(0,255)\n",
    "        b = random.randint(0,255)\n",
    "        g = random.randint(0,255)\n",
    "        color_dict[authors[i]]= 'rgb({r},{b},{g})'.format(r=r,b=b,g=g)\n",
    "    return color_dict"
   ]
  },
  {
   "cell_type": "code",
   "execution_count": 10,
   "id": "5e7a24d2",
   "metadata": {},
   "outputs": [],
   "source": [
    "# Dash App\n",
    "from jupyter_dash import JupyterDash\n",
    "app = JupyterDash(__name__)"
   ]
  },
  {
   "cell_type": "code",
   "execution_count": 11,
   "id": "fd15d975",
   "metadata": {},
   "outputs": [],
   "source": [
    "# app layout using scattermapbox \n",
    "app.layout = html.Div([\n",
    "    html.H1(id = 'author_name_en_ko', children = '20th Century Women Writers Itinerary', style={'text-align': 'center'}),\n",
    "    html.Div([dcc.Dropdown(\n",
    "        id = 'author_dropdown',\n",
    "        placeholder = 'Select poet(s)',\n",
    "        multi = True,\n",
    "        options = authors_collected)]),\n",
    "    html.Div([\n",
    "    dcc.Graph(id = 'map')]),\n",
    "    html.Button('Next ▶', id='next_button')\n",
    "    ])"
   ]
  },
  {
   "cell_type": "code",
   "execution_count": 12,
   "id": "19484cdf",
   "metadata": {},
   "outputs": [],
   "source": [
    "# Callback: author_dropdown --> update_graph\n",
    "@app.callback(\n",
    "    Output(component_id = 'map', component_property = 'figure'),\n",
    "    [Input(component_id = 'author_dropdown', component_property = 'value')]\n",
    ")\n",
    "def update_graph(author_chosen):\n",
    "    #authors = author_chosen.split(',')\n",
    "    df = collected[collected['Full_Name_en'].isin(list(author_chosen))].reset_index()\n",
    "    color_dict = color_generator(list(author_chosen))\n",
    "    df['colors'] = df['Full_Name_en'].apply(lambda x: color_dict.get(x))\n",
    "    \n",
    "    fig = [go.Scattermapbox(\n",
    "                lat=df['Latitude'],\n",
    "                lon=df['Longitude'],\n",
    "                mode='markers',\n",
    "                marker={\n",
    "                    'color': df['colors'],  # Assign color based on the 'Name_ko' column value\n",
    "                    'size': 10\n",
    "                },\n",
    "                #unselected={'marker' : {'opacity':1}},\n",
    "                #selected={'marker' : {'opacity':0.5, 'size':10}},\n",
    "                hoverinfo='text',\n",
    "                hovertext=df['Location']\n",
    "        )]\n",
    "    \n",
    "    # Return figure\n",
    "    return {\n",
    "        'data' : fig,\n",
    "        'layout': go.Layout(\n",
    "            #clickmode = 'select',\n",
    "            hovermode = 'closest',\n",
    "            mapbox = dict(\n",
    "                accesstoken=mapbox_access_token,\n",
    "                style = 'light', \n",
    "                center = dict(lat = 0, lon = 0),\n",
    "                domain={'x': [0, 0.5], 'y': [0, 1]}\n",
    "                #pitch = 40,  \n",
    "        )\n",
    "            \n",
    "    )\n",
    "        \n",
    "}"
   ]
  },
  {
   "cell_type": "code",
   "execution_count": 13,
   "id": "bca4352e",
   "metadata": {},
   "outputs": [],
   "source": [
    "#Callback --> click the marker and display info \n",
    "# either use bootstrap, or row and col "
   ]
  },
  {
   "cell_type": "code",
   "execution_count": null,
   "id": "62ee1dc5",
   "metadata": {},
   "outputs": [],
   "source": [
    "import dash\n",
    "import dash_core_components as dcc\n",
    "import dash_html_components as html\n",
    "from dash.dependencies import Input, Output, State\n",
    "import plotly.graph_objects as go\n",
    "\n",
    "app = dash.Dash(__name__)\n",
    "\n",
    "# Sample data\n",
    "data = [\n",
    "    {'latitude': 40.7128, 'longitude': -74.0060, 'author': 'Author 1'},\n",
    "    {'latitude': 51.5074, 'longitude': -0.1278, 'author': 'Author 2'},\n",
    "    {'latitude': 48.8566, 'longitude': 2.3522, 'author': 'Author 3'}\n",
    "]\n",
    "\n",
    "app.layout = html.Div([\n",
    "    dcc.Graph(id='map', figure={}),\n",
    "    html.Button('Next ▶', id='next_button')\n",
    "])\n",
    "\n",
    "@app.callback(\n",
    "    Output('map', 'figure'),\n",
    "    Input('next_button', 'n_clicks'),\n",
    "    State('map', 'figure'),\n",
    "    State('map', 'selectedData')\n",
    ")\n",
    "def update_graph(n_clicks, figure, selected_data):\n",
    "    if n_clicks is None:\n",
    "        # Initial load, no marker selected\n",
    "        selected_index = None\n",
    "    elif selected_data is None:\n",
    "        # No marker selected\n",
    "        selected_index = 0\n",
    "    else:\n",
    "        # Get the index of the currently selected marker\n",
    "        selected_index = selected_data['points'][0]['pointIndex']\n",
    "    \n",
    "    # Determine the index of the next marker\n",
    "    next_index = (selected_index + 1) % len(data)\n",
    "    \n",
    "    # Create a list of markers\n",
    "    markers = []\n",
    "    for i, item in enumerate(data):\n",
    "        marker = go.Scattermapbox(\n",
    "            lat=[item['latitude']],\n",
    "            lon=[item['longitude']],\n",
    "            mode='markers',\n",
    "            marker={'size': 10},\n",
    "            selected={'marker': {'size': 15}},\n",
    "            unselected={'marker': {'opacity': 0.3}},\n",
    "            hoverinfo='text',\n",
    "            hovertext=item['author']\n",
    "        )\n",
    "        \n",
    "        if i == next_index:\n",
    "            # Select the next marker\n",
    "            marker.selectedpoints = [0]\n",
    "        \n",
    "        markers.append(marker)\n",
    "    \n",
    "    # Update the figure with the new markers\n",
    "    figure['data'] = markers\n",
    "    \n",
    "    return figure\n",
    "\n",
    "if __name__ == '__main__':\n",
    "    app.run_server(debug=True)"
   ]
  },
  {
   "cell_type": "code",
   "execution_count": 14,
   "id": "35b5e476",
   "metadata": {},
   "outputs": [
    {
     "name": "stdout",
     "output_type": "stream",
     "text": [
      "Dash app running on http://127.0.0.1:8056/\n"
     ]
    }
   ],
   "source": [
    "# specify port if error about port number being used already \n",
    "if __name__ == '__main__':\n",
    "    app.run_server(port = 8056)"
   ]
  }
 ],
 "metadata": {
  "kernelspec": {
   "display_name": "Python 3 (ipykernel)",
   "language": "python",
   "name": "python3"
  },
  "language_info": {
   "codemirror_mode": {
    "name": "ipython",
    "version": 3
   },
   "file_extension": ".py",
   "mimetype": "text/x-python",
   "name": "python",
   "nbconvert_exporter": "python",
   "pygments_lexer": "ipython3",
   "version": "3.9.13"
  }
 },
 "nbformat": 4,
 "nbformat_minor": 5
}
