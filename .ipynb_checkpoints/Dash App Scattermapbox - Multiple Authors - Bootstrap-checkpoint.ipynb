{
 "cells": [
  {
   "cell_type": "code",
   "execution_count": null,
   "id": "b74b8066",
   "metadata": {},
   "outputs": [],
   "source": [
    "import pandas as pd\n",
    "import plotly.graph_objects as go\n",
    "import dash\n",
    "import dash_core_components as dcc\n",
    "import dash_bootstrap_components as dbc\n",
    "import dash_html_components as html\n",
    "from dash.dependencies import Input, Output"
   ]
  },
  {
   "cell_type": "code",
   "execution_count": null,
   "id": "38bc5349",
   "metadata": {},
   "outputs": [],
   "source": [
    "mapbox_access_token = open('mapbox_token.txt').read()"
   ]
  },
  {
   "cell_type": "code",
   "execution_count": null,
   "id": "e5623813",
   "metadata": {
    "scrolled": true
   },
   "outputs": [],
   "source": [
    "collected = pd.read_csv('Collected.csv')\n",
    "print(collected.head())"
   ]
  },
  {
   "cell_type": "code",
   "execution_count": null,
   "id": "a8332f9b",
   "metadata": {},
   "outputs": [],
   "source": [
    "# Create a dictionary of english name : korean name\n",
    "#en_name = ['Im Ok-in', 'Shim Hoon', 'Lee Kwang-soo', 'Kim Myung-soon', 'Im Soon-deuk', 'Kim Nam-cheon', 'Mo Yoon-sook', 'Ju Yo-han', 'Lee Sun-hee', 'Cha Mi-ri-sa', 'Yeom Sang-seob', 'No Chun-myeong', 'Kang Kyung-ae', 'Baek Shin-ae', 'Han Mu-sook', 'Park Hwa-seong', 'Choi Jeong-hee', 'Choi Seung-hee', 'Na Hye-seok', 'Lee Sang', 'Kim Sa-ryang', 'Ji Ha-ryeon']\n",
    "#ko_name = list(collected['Name_ko'].unique())\n",
    "#ko_en_name = {key:value for key, value in zip(ko_name, en_name)}"
   ]
  },
  {
   "cell_type": "code",
   "execution_count": null,
   "id": "b9d17f2b",
   "metadata": {},
   "outputs": [],
   "source": [
    "# Add a column of full english names 'Full_Name_en'\n",
    "#collected['Full_Name_en'] = collected['Name_ko'].apply(lambda x: ko_en_name.get(x))\n",
    "#print(collected.head())"
   ]
  },
  {
   "cell_type": "code",
   "execution_count": null,
   "id": "ec2d685a",
   "metadata": {},
   "outputs": [],
   "source": [
    "#Update Collected.csv\n",
    "#collected.to_csv('Collected.csv')"
   ]
  },
  {
   "cell_type": "code",
   "execution_count": null,
   "id": "45ce9341",
   "metadata": {},
   "outputs": [],
   "source": [
    "# Create dictionary of author names for dropdown\n",
    "authors_collected = [{'label' : name, 'value': name} for name in collected['Full_Name_en'].unique()]"
   ]
  },
  {
   "cell_type": "code",
   "execution_count": null,
   "id": "64a9023e",
   "metadata": {},
   "outputs": [],
   "source": [
    "#for whatever authors are selected, create a list of random colors generated\n",
    "#make sure that the colors don't overlap\n",
    "#random color generator? \n",
    "#print(index) before the graph with the colors and \n",
    "# marker(color - list I'd have created)"
   ]
  },
  {
   "cell_type": "code",
   "execution_count": null,
   "id": "9f337df1",
   "metadata": {},
   "outputs": [],
   "source": [
    "# random color generator \n",
    "#import random \n",
    "\n",
    "# generate random colors\n",
    "#def color_generator(authors):\n",
    "    #color_dict = {}\n",
    "    #for i in range(len(authors)):\n",
    "        #r = random.randint(0,255)\n",
    "        #b = random.randint(0,255)\n",
    "        #g = random.randint(0,255)\n",
    "        #color = 'rgb({r},{b},{g})'.format(r=r,b=b,g=g)\n",
    "        #if color not in color_dict:\n",
    "            #color_dict[authors[i]] = color\n",
    "    #return color_dict"
   ]
  },
  {
   "cell_type": "code",
   "execution_count": null,
   "id": "3d4c8b1d",
   "metadata": {},
   "outputs": [],
   "source": [
    "# Created 'colors' column in Collected.csv\n",
    "#color_dict = color_generator(list(collected['Full_Name_en'].unique()))\n",
    "#collected['colors'] = collected['Full_Name_en'].apply(lambda x: color_dict.get(x))\n",
    "#collected.to_csv('Collected.csv')"
   ]
  },
  {
   "cell_type": "code",
   "execution_count": null,
   "id": "5e7a24d2",
   "metadata": {},
   "outputs": [],
   "source": [
    "# Dash App\n",
    "from jupyter_dash import JupyterDash\n",
    "app = JupyterDash(__name__, external_stylesheets=[dbc.themes.BOOTSTRAP])"
   ]
  },
  {
   "cell_type": "code",
   "execution_count": null,
   "id": "10741530",
   "metadata": {
    "scrolled": false
   },
   "outputs": [],
   "source": [
    "# nahyeseok dataframe\n",
    "nahyeseok = collected[collected['Full_Name_en'] == 'Na Hye-seok']\n",
    "\n",
    "# scattermapbox of nahyeseok\n",
    "fig = go.Figure(go.Scattermapbox(\n",
    "                      lat = nahyeseok['Latitude'],\n",
    "                      lon = nahyeseok['Longitude'],\n",
    "                      mode = 'markers',\n",
    "                      marker = {\n",
    "                          'color' : nahyeseok['colors'],\n",
    "                          'size' : 9\n",
    "                      },\n",
    "                      hoverinfo = 'text',\n",
    "                      hovertext = nahyeseok['Location']))\n",
    "\n",
    "fig.update_layout(\n",
    "            title = '20th Century Women Writers Itinerary',\n",
    "            hovermode = 'closest',\n",
    "            autosize=True,\n",
    "            margin= { 'r': 0, 't': 0, 'b': 0, 'l': 0 },\n",
    "            mapbox = dict(\n",
    "                accesstoken=mapbox_access_token,\n",
    "                style = 'light', \n",
    "                center = dict(lat = 30, lon = 100),\n",
    "                zoom = 1.2\n",
    "            ))"
   ]
  },
  {
   "cell_type": "code",
   "execution_count": null,
   "id": "fd15d975",
   "metadata": {},
   "outputs": [],
   "source": [
    "# app layout using scattermapbox \n",
    "app.layout = dbc.Container([\n",
    "    dbc.Row(\n",
    "        dbc.Col(\n",
    "            html.H1(\"20th Century Women Writers\"), align = 'center')\n",
    "    ),\n",
    "    dbc.Row(\n",
    "        dbc.Col(\n",
    "        dcc.Dropdown(\n",
    "            id = 'author_dropdown',\n",
    "            value = 'Na Hye-seok',\n",
    "            multi = True,\n",
    "            options = authors_collected)\n",
    "        )\n",
    "    ),\n",
    "    dbc.Row(\n",
    "        dbc.Col(\n",
    "            html.Ul(id='index', children=[\n",
    "                html.Li(\"Na Hye-seok\", style={'color': collected['colors'][collected['Full_Name_en'] == 'Na Hye-seok'].unique()})]))),\n",
    "    dbc.Row([\n",
    "        dbc.Col(\n",
    "            dcc.Graph(id = 'map', \n",
    "                      figure = fig), width = {'size' : 10, 'order' : 1}, align = 'start'),\n",
    "        dbc.Col(html.Button('Next ▶', id='next_button'), width = {'size' : 2})\n",
    "    ])\n",
    "])"
   ]
  },
  {
   "cell_type": "code",
   "execution_count": null,
   "id": "24be1618",
   "metadata": {},
   "outputs": [],
   "source": [
    "#ISSUES \n",
    "# na hye seok shows up only after the dropdown values are changed (v)\n",
    "# need to include index of colors - authors\n",
    "# the size of the world map needs to only be the world \n",
    "# the world map should have bounds/domains (no multiverse // look at dcc.Graph(dict(CONFIG))"
   ]
  },
  {
   "cell_type": "code",
   "execution_count": null,
   "id": "19484cdf",
   "metadata": {},
   "outputs": [],
   "source": [
    "# Callback: author_dropdown --> update_graph\n",
    "@app.callback(\n",
    "    Output(component_id = 'map', component_property = 'figure'),\n",
    "    [Input(component_id = 'author_dropdown', component_property = 'value')]\n",
    ")\n",
    "def update_graph(author_chosen):\n",
    "    df = collected[collected['Full_Name_en'].isin(list(author_chosen))].reset_index()\n",
    "    fig = [go.Scattermapbox(\n",
    "                lat=df['Latitude'],\n",
    "                lon=df['Longitude'],\n",
    "                mode='markers',\n",
    "                marker={\n",
    "                    'color': df['colors'],  # Assign color based on the 'Name_ko' column value\n",
    "                    'size': 9\n",
    "                },\n",
    "                #unselected={'marker' : {'opacity':1}},\n",
    "                #selected={'marker' : {'opacity':0.5, 'size':10}},\n",
    "                hoverinfo='text',\n",
    "                hovertext=df['Location']\n",
    "        )]\n",
    "    \n",
    "    # Return figure\n",
    "    return {\n",
    "        'data' : fig,\n",
    "        'layout': go.Layout(\n",
    "            #clickmode = 'select',\n",
    "            hovermode = 'closest',\n",
    "            autosize=True,\n",
    "            margin= { 'r': 0, 't': 0, 'b': 0, 'l': 0 },\n",
    "            mapbox = dict(\n",
    "                accesstoken=mapbox_access_token,\n",
    "                style = 'light', \n",
    "                center = dict(lat = 30, lon = 100),\n",
    "                zoom = 1.2\n",
    "        )    \n",
    "    )\n",
    "        \n",
    "}"
   ]
  },
  {
   "cell_type": "code",
   "execution_count": null,
   "id": "3e5a00b6",
   "metadata": {},
   "outputs": [],
   "source": [
    "# Callback: author_dropdown --> update_index\n",
    "@app.callback(\n",
    "    Output(component_id = 'index', component_property = 'children'),\n",
    "    [Input(component_id = 'author_dropdown', component_property = 'value')]\n",
    ")\n",
    "def update_index(authors):\n",
    "    items = []\n",
    "    for x in list(authors):\n",
    "        filtered_colors = collected.loc[collected['Full_Name_en'] == x, 'colors']\n",
    "        if not filtered_colors.empty:\n",
    "            color = filtered_colors.values[0]\n",
    "            items.append(html.Li(x, style={'color': color}))\n",
    "    return items"
   ]
  },
  {
   "cell_type": "code",
   "execution_count": null,
   "id": "35b5e476",
   "metadata": {},
   "outputs": [],
   "source": [
    "# specify port if error about port number being used already \n",
    "if __name__ == '__main__':\n",
    "    app.run_server(port = 8057)"
   ]
  },
  {
   "cell_type": "code",
   "execution_count": null,
   "id": "bca4352e",
   "metadata": {},
   "outputs": [],
   "source": [
    "#FUTURE GOALS \n",
    "# Callback --> click the marker and display PURPOSE + location (use BOOTSTRAP) \n",
    "# Callback --> NEXT BUTTON (add trace; line?) --> should this only be for 1 author each time? \n",
    "# chained callback (gender, year, location)\n",
    "# css\n",
    "# display photos and videos\n",
    "# Multi page\n",
    "   # infos\n",
    "   # georeference old korean map of certain years \n",
    "# render to publish website \n",
    "# webscraping "
   ]
  }
 ],
 "metadata": {
  "kernelspec": {
   "display_name": "Python 3 (ipykernel)",
   "language": "python",
   "name": "python3"
  },
  "language_info": {
   "codemirror_mode": {
    "name": "ipython",
    "version": 3
   },
   "file_extension": ".py",
   "mimetype": "text/x-python",
   "name": "python",
   "nbconvert_exporter": "python",
   "pygments_lexer": "ipython3",
   "version": "3.9.13"
  }
 },
 "nbformat": 4,
 "nbformat_minor": 5
}
