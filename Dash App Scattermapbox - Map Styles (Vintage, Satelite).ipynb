{
 "cells": [
  {
   "cell_type": "code",
   "execution_count": 5,
   "id": "18bb04aa",
   "metadata": {},
   "outputs": [
    {
     "name": "stdout",
     "output_type": "stream",
     "text": [
      "Dash app running on http://127.0.0.1:8059/\n"
     ]
    }
   ],
   "source": [
    "import dash\n",
    "import dash_core_components as dcc\n",
    "import dash_html_components as html\n",
    "import plotly.graph_objects as go\n",
    "\n",
    "from jupyter_dash import JupyterDash\n",
    "\n",
    "app = JupyterDash(__name__)\n",
    "mapbox_access_token = open('mapbox_token.txt').read()\n",
    "\n",
    "app.layout = html.Div([\n",
    "    dcc.Graph(\n",
    "        id='map',\n",
    "        config={\n",
    "            'scrollZoom': True,\n",
    "            'displayModeBar': True\n",
    "        },\n",
    "        figure=go.Figure(\n",
    "            data=go.Scattermapbox(),\n",
    "            layout=go.Layout(\n",
    "                mapbox={\n",
    "                    'accesstoken': mapbox_access_token,\n",
    "                    'style': 'mapbox://styles/jiminlee22/clioq2ahm01g201qp0qkyhetp', #can change the styles\n",
    "                    'center': {'lat': 46, 'lon': -74},\n",
    "                    'zoom': 3,\n",
    "                },\n",
    "                margin={'l': 0, 'r': 0, 't': 0, 'b': 0},\n",
    "                autosize=True\n",
    "            )\n",
    "        )\n",
    "    )\n",
    "])\n",
    "\n",
    "if __name__ == '__main__':\n",
    "    app.run_server(port = 8059)"
   ]
  },
  {
   "cell_type": "code",
   "execution_count": null,
   "id": "46854d30",
   "metadata": {},
   "outputs": [],
   "source": [
    "# vintage style\n",
    "# mapbox://styles/jiminlee22/clioucqd101ev01qfagwe2wj9\n",
    "\n",
    "# issue \n",
    "# korea (country's name) does not show when the zoom level is 0 (world map)"
   ]
  },
  {
   "cell_type": "code",
   "execution_count": null,
   "id": "7747cb69",
   "metadata": {},
   "outputs": [],
   "source": [
    "# my own (cartoonish)\n",
    "# mapbox://styles/jiminlee22/clioq2ahm01g201qp0qkyhetp\n",
    "\n",
    "# issue\n",
    "# it displays a 3D map (a globe)"
   ]
  },
  {
   "cell_type": "code",
   "execution_count": null,
   "id": "84ccd61a",
   "metadata": {},
   "outputs": [],
   "source": [
    "# satelite\n",
    "# mapbox://styles/mapbox/satellite-v9"
   ]
  },
  {
   "cell_type": "code",
   "execution_count": null,
   "id": "994e1bb1",
   "metadata": {},
   "outputs": [],
   "source": [
    "# mapbox styles API\n",
    "# https://docs.mapbox.com/api/maps/styles/#retrieve-a-style"
   ]
  }
 ],
 "metadata": {
  "kernelspec": {
   "display_name": "Python 3 (ipykernel)",
   "language": "python",
   "name": "python3"
  },
  "language_info": {
   "codemirror_mode": {
    "name": "ipython",
    "version": 3
   },
   "file_extension": ".py",
   "mimetype": "text/x-python",
   "name": "python",
   "nbconvert_exporter": "python",
   "pygments_lexer": "ipython3",
   "version": "3.9.13"
  }
 },
 "nbformat": 4,
 "nbformat_minor": 5
}
