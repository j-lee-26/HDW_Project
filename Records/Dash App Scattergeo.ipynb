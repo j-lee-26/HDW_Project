{
 "cells": [
  {
   "cell_type": "code",
   "execution_count": 1,
   "id": "2e9d2a6e",
   "metadata": {},
   "outputs": [],
   "source": [
    "import pandas as pd\n",
    "import plotly.graph_objects as go\n",
    "import dash\n",
    "import dash_core_components as dcc\n",
    "import dash_html_components as html\n",
    "from dash.dependencies import Input, Output"
   ]
  },
  {
   "cell_type": "code",
   "execution_count": 2,
   "id": "4ccf574d",
   "metadata": {},
   "outputs": [
    {
     "name": "stdout",
     "output_type": "stream",
     "text": [
      "   Unnamed: 0.2  Unnamed: 0.1  Unnamed: 0 Location    Latitude, Longitude  \\\n",
      "0             0             0           0    Kilju  40.963361, 129.320537   \n",
      "1             1             1           1  Hamhung  39.991616, 127.612627   \n",
      "2             2             2           2     Nara  34.696509, 135.830573   \n",
      "3             3             3           3  Hamhung  39.991616, 127.612627   \n",
      "4             4             4           4   Wonsan  39.153670, 127.446306   \n",
      "\n",
      "          Date Name_en Name_ko   Latitude   Longitude Start_date End_date  \\\n",
      "0  6/1/1911 -     ImOI     임옥인  40.963361  129.320537   6/1/1911      NaN   \n",
      "1       1931 -    ImOI     임옥인  39.991616  127.612627       1931      NaN   \n",
      "2    3/1932 -     ImOI     임옥인  34.696509  135.830573     3/1932      NaN   \n",
      "3        1935-    ImOI     임옥인  39.991616  127.612627       1935      NaN   \n",
      "4      1937 -     ImOI     임옥인  39.153670  127.446306       1937      NaN   \n",
      "\n",
      "  Full_Name_en          colors  \n",
      "0     Im Ok-in  rgb(19,189,39)  \n",
      "1     Im Ok-in  rgb(19,189,39)  \n",
      "2     Im Ok-in  rgb(19,189,39)  \n",
      "3     Im Ok-in  rgb(19,189,39)  \n",
      "4     Im Ok-in  rgb(19,189,39)  \n"
     ]
    }
   ],
   "source": [
    "collected = pd.read_csv('Collected.csv')\n",
    "print(collected.head())"
   ]
  },
  {
   "cell_type": "code",
   "execution_count": 3,
   "id": "32ceed16",
   "metadata": {},
   "outputs": [],
   "source": [
    "# Dash App\n",
    "from jupyter_dash import JupyterDash\n",
    "app = JupyterDash(__name__)"
   ]
  },
  {
   "cell_type": "code",
   "execution_count": 4,
   "id": "0cb0b57e",
   "metadata": {
    "scrolled": true
   },
   "outputs": [
    {
     "name": "stdout",
     "output_type": "stream",
     "text": [
      "[{'label': 'Im Ok-in', 'value': 'Im Ok-in'}, {'label': 'Shim Hoon', 'value': 'Shim Hoon'}, {'label': 'Lee Kwang-soo', 'value': 'Lee Kwang-soo'}, {'label': 'Kim Myung-soon', 'value': 'Kim Myung-soon'}, {'label': 'Im Soon-deuk', 'value': 'Im Soon-deuk'}, {'label': 'Kim Nam-cheon', 'value': 'Kim Nam-cheon'}, {'label': 'Mo Yoon-sook', 'value': 'Mo Yoon-sook'}, {'label': 'Ju Yo-han', 'value': 'Ju Yo-han'}, {'label': 'Lee Sun-hee', 'value': 'Lee Sun-hee'}, {'label': 'Cha Mi-ri-sa', 'value': 'Cha Mi-ri-sa'}, {'label': 'Yeom Sang-seob', 'value': 'Yeom Sang-seob'}, {'label': 'No Chun-myeong', 'value': 'No Chun-myeong'}, {'label': 'Kang Kyung-ae', 'value': 'Kang Kyung-ae'}, {'label': 'Baek Shin-ae', 'value': 'Baek Shin-ae'}, {'label': 'Han Mu-sook', 'value': 'Han Mu-sook'}, {'label': 'Park Hwa-seong', 'value': 'Park Hwa-seong'}, {'label': 'Choi Jeong-hee', 'value': 'Choi Jeong-hee'}, {'label': 'Choi Seung-hee', 'value': 'Choi Seung-hee'}, {'label': 'Na Hye-seok', 'value': 'Na Hye-seok'}, {'label': 'Lee Sang', 'value': 'Lee Sang'}, {'label': 'Kim Sa-ryang', 'value': 'Kim Sa-ryang'}, {'label': 'Ji Ha-ryeon', 'value': 'Ji Ha-ryeon'}]\n"
     ]
    }
   ],
   "source": [
    "# Create dictionary of author names\n",
    "en_name = ['Im Ok-in', 'Shim Hoon', 'Lee Kwang-soo', 'Kim Myung-soon', 'Im Soon-deuk', 'Kim Nam-cheon', 'Mo Yoon-sook', 'Ju Yo-han', 'Lee Sun-hee', 'Cha Mi-ri-sa', 'Yeom Sang-seob', 'No Chun-myeong', 'Kang Kyung-ae', 'Baek Shin-ae', 'Han Mu-sook', 'Park Hwa-seong', 'Choi Jeong-hee', 'Choi Seung-hee', 'Na Hye-seok', 'Lee Sang', 'Kim Sa-ryang', 'Ji Ha-ryeon']\n",
    "authors_collected = [{'label' : name, 'value': name} for name in en_name]\n",
    "print(authors_collected)"
   ]
  },
  {
   "cell_type": "code",
   "execution_count": 5,
   "id": "8d82959e",
   "metadata": {},
   "outputs": [
    {
     "name": "stdout",
     "output_type": "stream",
     "text": [
      "{'Im Ok-in': '임옥인', 'Shim Hoon': '심훈', 'Lee Kwang-soo': '이광수', 'Kim Myung-soon': '김명순', 'Im Soon-deuk': '임순득', 'Kim Nam-cheon': '김남천', 'Mo Yoon-sook': '모윤숙', 'Ju Yo-han': '주요한', 'Lee Sun-hee': '이선희', 'Cha Mi-ri-sa': '차미리사', 'Yeom Sang-seob': '염상섭', 'No Chun-myeong': '노천명', 'Kang Kyung-ae': '강경애', 'Baek Shin-ae': '백신애', 'Han Mu-sook': '한무숙', 'Park Hwa-seong': '박화성', 'Choi Jeong-hee': '최정희', 'Choi Seung-hee': '최승희', 'Na Hye-seok': '나혜석', 'Lee Sang': '이상', 'Kim Sa-ryang': '김사량', 'Ji Ha-ryeon': '지하련'}\n"
     ]
    }
   ],
   "source": [
    "# create a dictionary of english name : korean name\n",
    "ko_name = list(collected['Name_ko'].unique())\n",
    "ko_en_name = {key:value for key, value in zip(en_name, ko_name)}\n",
    "print(ko_en_name)"
   ]
  },
  {
   "cell_type": "code",
   "execution_count": 6,
   "id": "a4735b63",
   "metadata": {},
   "outputs": [],
   "source": [
    "# Author name dropdown\n",
    "app.layout = html.Div([\n",
    "    html.H2(id = 'author_name_en_ko', style={'text-align': 'center'}),\n",
    "    dcc.Dropdown(\n",
    "        id = 'author_dropdown',\n",
    "        value = 'Na Hye-seok',\n",
    "        options = authors_collected),\n",
    "    html.Div(\n",
    "        style={'display': 'flex', 'justify-content': 'center', 'align-items': 'center', 'margin-top': '10px'},\n",
    "        children = [\n",
    "        dcc.Graph(id = 'map', figure = {}, style={'width': '960px', 'height': '720px', 'margin':'0'})\n",
    "        ]\n",
    "    )\n",
    "])\n",
    "#'width': '1000px', 'height': '800px', 'display': 'flex', 'justify-content': 'center'"
   ]
  },
  {
   "cell_type": "code",
   "execution_count": 7,
   "id": "04296ee3",
   "metadata": {},
   "outputs": [],
   "source": [
    "# Callback: author_dropdown --> print_name_en_ko\n",
    "@app.callback(\n",
    "    Output(component_id = 'author_name_en_ko', component_property = 'children'),\n",
    "    Input(component_id = 'author_dropdown', component_property = 'value')\n",
    ")\n",
    "def print_name_en_ko(author_chosen):\n",
    "    return \"{}\\'s Itinerary \\t | {}의 여정\".format(author_chosen, ko_en_name.get(author_chosen)) "
   ]
  },
  {
   "cell_type": "code",
   "execution_count": 8,
   "id": "2136d3f6",
   "metadata": {},
   "outputs": [],
   "source": [
    "# Callback: author_dropdown --> update_graph\n",
    "@app.callback(\n",
    "    Output(component_id = 'map', component_property = 'figure'),\n",
    "    Input(component_id = 'author_dropdown', component_property = 'value')\n",
    ")\n",
    "def update_graph(author_chosen):\n",
    "    author_df = collected[collected['Name_ko']==ko_en_name.get(author_chosen)].reset_index()\n",
    "    fig = go.Figure(data=go.Scattergeo(\n",
    "                lon = author_df['Longitude'],\n",
    "                lat = author_df['Latitude'],\n",
    "                text = author_df['Location'],\n",
    "                mode = 'markers'))\n",
    "    return fig "
   ]
  },
  {
   "cell_type": "code",
   "execution_count": 9,
   "id": "da7e032f",
   "metadata": {},
   "outputs": [
    {
     "name": "stdout",
     "output_type": "stream",
     "text": [
      "Dash app running on http://127.0.0.1:8053/\n"
     ]
    }
   ],
   "source": [
    "# specify port if error about port number being used already \n",
    "if __name__ == '__main__':\n",
    "    app.run_server(port = 8053)"
   ]
  }
 ],
 "metadata": {
  "kernelspec": {
   "display_name": "Python 3 (ipykernel)",
   "language": "python",
   "name": "python3"
  },
  "language_info": {
   "codemirror_mode": {
    "name": "ipython",
    "version": 3
   },
   "file_extension": ".py",
   "mimetype": "text/x-python",
   "name": "python",
   "nbconvert_exporter": "python",
   "pygments_lexer": "ipython3",
   "version": "3.9.13"
  }
 },
 "nbformat": 4,
 "nbformat_minor": 5
}
